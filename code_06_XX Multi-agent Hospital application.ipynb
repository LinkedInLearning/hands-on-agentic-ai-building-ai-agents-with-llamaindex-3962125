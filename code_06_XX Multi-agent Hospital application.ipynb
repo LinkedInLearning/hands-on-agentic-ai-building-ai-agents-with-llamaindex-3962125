{
 "cells": [
  {
   "cell_type": "markdown",
   "id": "8e525ecd-110e-415a-93b7-4423e8fe6111",
   "metadata": {},
   "source": [
    "### 06.03. Import agents into application"
   ]
  },
  {
   "cell_type": "code",
   "execution_count": null,
   "id": "96932448-bca3-43ed-a954-20e74cf37b80",
   "metadata": {},
   "outputs": [
    {
     "name": "stdout",
     "output_type": "stream",
     "text": [
      "--------\n",
      " search_data \n",
      "        Use this tool to load data from the following function. It must then be read from\n",
      "        the corresponding read_search_data function.\n",
      "\n",
      "        search_data(query: str, lang: str = 'en') -> str\n",
      "\n",
      "        Search Wikipedia for a page related to the given query.\n",
      "        Use this tool when `load_data` returns no results.\n",
      "\n",
      "        Args:\n",
      "            query (str): the string to search for\n",
      "        \n",
      "    \n",
      "--------\n",
      " read_search_data \n",
      "        Once data has been loaded from search_data it can then be read using a natural\n",
      "        language query from this function.\n",
      "\n",
      "        You are required to pass the natural language query argument when calling this endpoint\n",
      "\n",
      "        Args:\n",
      "            query (str): The natural language query used to retreieve information from the index\n",
      "    \n",
      "> Running step ac8c995e-4db0-4cd8-94a9-a1b01c191b09. Step input: Which medication should i take for arthritis?\n",
      "\u001b[1;3;38;5;200mThought: The current language of the user is: English. I need to use a tool to help me answer the question.\n",
      "Action: query_engine_tool\n",
      "Action Input: {'input': 'medication for arthritis'}\n",
      "\u001b[0m\u001b[1;3;34mObservation: Naproxen is used for pain and inflammation, which can be associated with arthritis.\n",
      "\u001b[0m> Running step 18373ccb-6fbb-41e5-af72-4eb7bb8d36e8. Step input: None\n",
      "\u001b[1;3;38;5;200mThought: I can answer without using any more tools. I'll use the user's language to answer.\n",
      "Answer: Naproxen is a medication commonly used to relieve pain and inflammation associated with arthritis. However, it's important to consult with a healthcare professional before starting any medication to ensure it's appropriate for your specific condition and health profile.\n",
      "\u001b[0m*******\n",
      " Response :  Naproxen is a medication commonly used to relieve pain and inflammation associated with arthritis. However, it's important to consult with a healthcare professional before starting any medication to ensure it's appropriate for your specific condition and health profile.\n",
      "> Running step 9a95ceb3-8082-4b06-b2c9-08245b5edbe4. Step input: I have fever and soar throat, what is the possible cause?\n",
      "\u001b[1;3;38;5;200mThought: The current language of the user is: English. I need to use a tool to help me answer the question.\n",
      "Action: search_data\n",
      "Action Input: {'query': 'fever and sore throat causes'}\n",
      "\u001b[0m"
     ]
    }
   ],
   "source": [
    "#Reuse the agents created in the previous chapters by importing their notebooks\n",
    "#Ignore / hide the code output and use only the agents\n",
    "\n",
    "#import the Healthcare assistant agent\n",
    "%run \"code_02_XX A Healthcare assistant agent with ReAct.ipynb\" \n",
    "print(\"===============================================================\")\n",
    "#import the appointment scheduling agent\n",
    "%run \"code_05_XX ReAct agent with Workflows - Doctor scheduling.ipynb\""
   ]
  },
  {
   "cell_type": "markdown",
   "id": "ed514e6b-af2d-4e72-8885-f1df839c0ef8",
   "metadata": {},
   "source": [
    "### 06.04 Setup the multi-agent application"
   ]
  },
  {
   "cell_type": "code",
   "execution_count": 40,
   "id": "5423424a-9596-4112-a5fb-97a6f1940005",
   "metadata": {},
   "outputs": [],
   "source": [
    "from llama_index.core.tools import QueryEngineTool, ToolMetadata\n",
    "from llama_index.core.tools import FunctionTool\n",
    "\n",
    "#Sync agent - use as query agent directly\n",
    "healthcare_agent_tool = QueryEngineTool(\n",
    "    query_engine= healthcare_agent,\n",
    "    metadata=ToolMetadata(\n",
    "        name=\"Healthcare_Agent\",\n",
    "        description=\"\"\"\n",
    "            An agent that can answer questions about diseases,\n",
    "            symptoms for the diseases and the medications to cure them\n",
    "            \"\"\"\n",
    "    )\n",
    ")\n",
    "\n",
    "#Async agent - use an async function to call\n",
    "async def async_doctors_and_appointments(query: str) -> str:\n",
    "    response = await scheduling_agent.run(input=query)\n",
    "    return response.get(\"response\")\n",
    "\n",
    "#Use a sync wrapper over the async function\n",
    "def doctors_and_appointments(query: str) -> str :\n",
    "    \"\"\"\n",
    "    An agent that find doctors for specific diseases & specialities\n",
    "    and then schedule appointments for these doctors.\n",
    "\n",
    "    Inputs:\n",
    "    query: This is the original query from the user\n",
    "    \"\"\"\n",
    "    response=asyncio.run(async_doctors_and_appointments(query))\n",
    "    return response\n",
    "\n",
    "appointment_scheduling_tool = FunctionTool.from_defaults(doctors_and_appointments)\n",
    "    \n",
    "#Create a Multi-agent\n",
    "multi_agent = ReActAgent.from_tools(\n",
    "                [healthcare_agent_tool, appointment_scheduling_tool],\n",
    "                llm=Settings.llm,\n",
    "                context=context,\n",
    "                verbose=True #Set verbose for detailed logs\n",
    "                )\n"
   ]
  },
  {
   "cell_type": "markdown",
   "id": "c7d0c6f5-32c1-4616-a8b4-f1dd18ba7b58",
   "metadata": {},
   "source": [
    "### 06.05. Execute the multi-agent application"
   ]
  },
  {
   "cell_type": "code",
   "execution_count": 46,
   "id": "74277be0-db5d-4cdd-a1e9-1d98f8779886",
   "metadata": {},
   "outputs": [
    {
     "name": "stdout",
     "output_type": "stream",
     "text": [
      "> Running step 856bc6e9-c189-4c68-b05e-562b1ee2912d. Step input: Which medication should i take for arthritis?\n",
      "\u001b[1;3;38;5;200mThought: The current language of the user is English. I need to use a tool to help me answer the question.\n",
      "Action: Healthcare_Agent\n",
      "Action Input: {'input': 'medication for arthritis'}\n",
      "\u001b[0m> Running step 9357a40e-6d51-4342-bbb1-b356e81bd4e9. Step input: medication for arthritis\n",
      "\u001b[1;3;38;5;200mThought: The current language of the user is English. I need to use a tool to help me answer the question about medications for arthritis.\n",
      "Action: query_engine_tool\n",
      "Action Input: {'input': 'arthritis'}\n",
      "\u001b[0m\u001b[1;3;34mObservation: For arthritis, Naproxen is used, with a typical dosage of 250-500 mg taken twice daily.\n",
      "\u001b[0m> Running step 276ba925-7e03-4fb8-bacb-8bcdcf0e8d13. Step input: None\n",
      "\u001b[1;3;38;5;200mThought: I can answer without using any more tools. I'll use the user's language to answer.\n",
      "Answer: For arthritis, Naproxen is commonly used, with a typical dosage of 250-500 mg taken twice daily.\n",
      "\u001b[0m\u001b[1;3;34mObservation: For arthritis, Naproxen is commonly used, with a typical dosage of 250-500 mg taken twice daily.\n",
      "\u001b[0m> Running step 9413de96-ebc5-4cdc-828f-c7ebe59d725c. Step input: None\n",
      "\u001b[1;3;38;5;200mThought: I can answer without using any more tools. I'll use the user's language to answer.\n",
      "Answer: For arthritis, Naproxen is commonly used, with a typical dosage of 250-500 mg taken twice daily.\n",
      "\u001b[0m*******\n",
      " Response :  For arthritis, Naproxen is commonly used, with a typical dosage of 250-500 mg taken twice daily.\n"
     ]
    }
   ],
   "source": [
    "response=multi_agent.chat(\"Which medication should i take for arthritis?\")\n",
    "print(\"*******\\n Response : \",response.response)"
   ]
  },
  {
   "cell_type": "code",
   "execution_count": 45,
   "id": "46af4f68-2293-4f82-a190-526e4dd367ab",
   "metadata": {
    "scrolled": true
   },
   "outputs": [
    {
     "name": "stdout",
     "output_type": "stream",
     "text": [
      "> Running step 69933fb1-ba08-40ac-9bd7-5010b291301d. Step input: Which doctors are cardiologists?\n",
      "\u001b[1;3;38;5;200mThought: The current language of the user is English. I need to use a tool to help me answer the question.\n",
      "Action: doctors_and_appointments\n",
      "Action Input: {'query': 'cardiologist'}\n",
      "\u001b[0mRunning step new_user_msg\n",
      "Step new_user_msg produced event PrepEvent\n",
      "Running step prepare_chat_history\n",
      "Step prepare_chat_history produced event InputEvent\n",
      "Running step handle_llm_input\n",
      "*** LLM Returned :  thought='(Implicit) I can answer without any more tools!' response='The cardiologist available is John Smith, who has 15 years of experience.' is_streaming=False\n",
      "Step handle_llm_input produced event StopEvent\n",
      "\u001b[1;3;34mObservation: The cardiologist available is John Smith, who has 15 years of experience.\n",
      "\u001b[0m> Running step 9756407e-6b37-40b2-aa88-ee8cb51d9430. Step input: None\n",
      "\u001b[1;3;38;5;200mThought: I can answer without using any more tools. I'll use the user's language to answer.\n",
      "Answer: The cardiologist available is John Smith, who has 15 years of experience.\n",
      "\u001b[0m*******\n",
      " Response :  The cardiologist available is John Smith, who has 15 years of experience.\n"
     ]
    }
   ],
   "source": [
    "response=multi_agent.chat(\"Which doctors are cardiologists?\")\n",
    "print(\"*******\\n Response : \",response.response)"
   ]
  },
  {
   "cell_type": "code",
   "execution_count": 44,
   "id": "9e1d5415-0e12-4f29-9765-fa43230da871",
   "metadata": {},
   "outputs": [
    {
     "name": "stdout",
     "output_type": "stream",
     "text": [
      "> Running step 18607dda-7160-44ea-8aec-c1f9979ce09c. Step input: Find a neurologist and request an appointment for Beth Wilson at the earliest\n",
      "\u001b[1;3;38;5;200mThought: The current language of the user is English. I need to use a tool to find a neurologist and schedule an appointment for Beth Wilson.\n",
      "Action: doctors_and_appointments\n",
      "Action Input: {'query': 'Find a neurologist and request an appointment for Beth Wilson at the earliest'}\n",
      "\u001b[0mRunning step new_user_msg\n",
      "Step new_user_msg produced event PrepEvent\n",
      "Running step prepare_chat_history\n",
      "Step prepare_chat_history produced event InputEvent\n",
      "Running step handle_llm_input\n",
      "*** LLM Returned :  thought='The current language of the user is English. I need to use a tool to find a neurologist.' action='query_engine_tool' action_input={'input': 'neurologist'}\n",
      "Step handle_llm_input produced event ToolCallEvent\n",
      "Running step handle_tool_calls\n",
      "*** Calling tools :  [ToolSelection(tool_id='fake', tool_name='query_engine_tool', tool_kwargs={'input': 'neurologist'})]\n",
      "Step handle_tool_calls produced event PrepEvent\n",
      "Running step prepare_chat_history\n",
      "Step prepare_chat_history produced event InputEvent\n",
      "Running step handle_llm_input\n",
      "*** LLM Returned :  thought='I have found a neurologist, Dr. Michael Brown. I will now proceed to schedule an appointment for Beth Wilson.' action='schedule_appointment' action_input={'patient_name': 'Beth Wilson', 'doctor_name': 'Michael Brown', 'scheduling_comments': 'At the earliest convenience'}\n",
      "Step handle_llm_input produced event ToolCallEvent\n",
      "Running step handle_tool_calls\n",
      "*** Calling tools :  [ToolSelection(tool_id='fake', tool_name='schedule_appointment', tool_kwargs={'patient_name': 'Beth Wilson', 'doctor_name': 'Michael Brown', 'scheduling_comments': 'At the earliest convenience'})]\n",
      "Step handle_tool_calls produced event PrepEvent\n",
      "Running step prepare_chat_history\n",
      "Step prepare_chat_history produced event InputEvent\n",
      "Running step handle_llm_input\n",
      "*** LLM Returned :  thought=\"I can answer without using any more tools. I'll use the user's language to answer.\" response='The appointment with Dr. Michael Brown for Beth Wilson has been successfully scheduled at the earliest convenience.' is_streaming=False\n",
      "Step handle_llm_input produced event StopEvent\n",
      "\u001b[1;3;34mObservation: The appointment with Dr. Michael Brown for Beth Wilson has been successfully scheduled at the earliest convenience.\n",
      "\u001b[0m> Running step 6cbdb3d0-abc5-4905-ae0e-6557b385b68d. Step input: None\n",
      "\u001b[1;3;38;5;200mThought: I can answer without using any more tools. I'll use the user's language to answer.\n",
      "Answer: The appointment with Dr. Michael Brown, a neurologist, for Beth Wilson has been successfully scheduled at the earliest convenience.\n",
      "\u001b[0m"
     ]
    }
   ],
   "source": [
    "response=multi_agent.chat(\n",
    "    \"Find a neurologist and request an appointment for Beth Wilson at the earliest\")"
   ]
  },
  {
   "cell_type": "code",
   "execution_count": null,
   "id": "a2cd8a36-475f-462c-be3b-1d9a2741474d",
   "metadata": {},
   "outputs": [],
   "source": []
  }
 ],
 "metadata": {
  "kernelspec": {
   "display_name": "Python 3",
   "language": "python",
   "name": "python3"
  },
  "language_info": {
   "codemirror_mode": {
    "name": "ipython",
    "version": 3
   },
   "file_extension": ".py",
   "mimetype": "text/x-python",
   "name": "python",
   "nbconvert_exporter": "python",
   "pygments_lexer": "ipython3",
   "version": "3.10.12"
  }
 },
 "nbformat": 4,
 "nbformat_minor": 5
}
